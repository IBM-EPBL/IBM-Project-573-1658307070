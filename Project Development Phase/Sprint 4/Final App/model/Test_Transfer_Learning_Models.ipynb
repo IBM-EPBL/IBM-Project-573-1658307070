{
  "cells": [
    {
      "cell_type": "code",
      "execution_count": null,
      "metadata": {
        "id": "CZM90d0vzSeZ"
      },
      "outputs": [],
      "source": [
        "#import load_model class for loading h5 file\n",
        "from tensorflow.keras.models import load_model\n",
        "#import image class to process the images\n",
        "from tensorflow.keras.preprocessing import image\n",
        "from tensorflow.keras.applications.inception_v3 import preprocess_input\n",
        "import numpy as np"
      ]
    },
    {
      "cell_type": "code",
      "execution_count": null,
      "metadata": {
        "id": "Ngrsnhc5zp14"
      },
      "outputs": [],
      "source": [
        "#load saved model file\n",
        "model=load_model('Updated-Xception-diabetic-retinopathy.h5')"
      ]
    },
    {
      "cell_type": "code",
      "execution_count": null,
      "metadata": {
        "id": "ySQWhxD95LoT"
      },
      "outputs": [],
      "source": [
        "#load one random image from local system\n",
        "img=image.load_img(r'PDR.jpg',target_size=(299,299))"
      ]
    },
    {
      "cell_type": "code",
      "execution_count": null,
      "metadata": {
        "id": "WPk2jVNk6GuX"
      },
      "outputs": [],
      "source": [
        "#convert image to array format\n",
        "x=image.img_to_array(img)"
      ]
    },
    {
      "cell_type": "code",
      "execution_count": null,
      "metadata": {
        "colab": {
          "base_uri": "https://localhost:8080/"
        },
        "id": "ULJOsH-x6PTR",
        "outputId": "34395ea0-97c0-4374-8679-d17152f68dc2"
      },
      "outputs": [
        {
          "data": {
            "text/plain": [
              "(1, 299, 299, 3)"
            ]
          },
          "execution_count": 10,
          "metadata": {},
          "output_type": "execute_result"
        }
      ],
      "source": [
        "x=np.expand_dims(x,axis=0)\n",
        "img_data=preprocess_input(x)\n",
        "img_data.shape"
      ]
    },
    {
      "cell_type": "code",
      "execution_count": null,
      "metadata": {
        "colab": {
          "base_uri": "https://localhost:8080/"
        },
        "id": "IsHH_BUZ6SQC",
        "outputId": "f525316b-c715-4023-cbe1-9326aac1bf0e"
      },
      "outputs": [
        {
          "name": "stdout",
          "output_type": "stream",
          "text": [
            "1/1 [==============================] - 2s 2s/step\n"
          ]
        },
        {
          "data": {
            "text/plain": [
              "array([[1.40166845e-11, 8.72857253e-09, 1.59445044e-08, 3.99780248e-07,\n",
              "        9.99999523e-01]], dtype=float32)"
            ]
          },
          "execution_count": 11,
          "metadata": {},
          "output_type": "execute_result"
        }
      ],
      "source": [
        "model.predict(img_data)"
      ]
    },
    {
      "cell_type": "code",
      "execution_count": null,
      "metadata": {
        "colab": {
          "base_uri": "https://localhost:8080/"
        },
        "id": "WCQUvieL6W7R",
        "outputId": "74512fd0-3549-4230-fb6e-c37ef5bb4d69"
      },
      "outputs": [
        {
          "name": "stdout",
          "output_type": "stream",
          "text": [
            "1/1 [==============================] - 0s 392ms/step\n"
          ]
        }
      ],
      "source": [
        "output=np.argmax(model.predict(img_data), axis=1)"
      ]
    },
    {
      "cell_type": "code",
      "execution_count": null,
      "metadata": {
        "colab": {
          "base_uri": "https://localhost:8080/"
        },
        "id": "wMQ_n4Pd6gi6",
        "outputId": "3b9f09a3-3fb0-4dee-fce8-73adb9e50c11"
      },
      "outputs": [
        {
          "data": {
            "text/plain": [
              "(array([False]),\n",
              " array([False]),\n",
              " array([False]),\n",
              " array([False]),\n",
              " array([ True]))"
            ]
          },
          "execution_count": 14,
          "metadata": {},
          "output_type": "execute_result"
        }
      ],
      "source": [
        "output==0,output==1,output==2,output==3,output==4"
      ]
    },
    {
      "cell_type": "code",
      "execution_count": null,
      "metadata": {
        "colab": {
          "base_uri": "https://localhost:8080/",
          "height": 35
        },
        "id": "3wnqBcqV6kEy",
        "outputId": "9ef8a69f-89e7-4cdb-967d-b246bfe9a0b6"
      },
      "outputs": [
        {
          "data": {
            "application/vnd.google.colaboratory.intrinsic+json": {
              "type": "string"
            },
            "text/plain": [
              "'Proliferative DR'"
            ]
          },
          "execution_count": 15,
          "metadata": {},
          "output_type": "execute_result"
        }
      ],
      "source": [
        "index=['No Diabetic Retinopathy', 'Mild DR', 'Moderate DR', 'Severe DR', 'Proliferative DR']\n",
        "result = str(index[output[0]])\n",
        "result"
      ]
    }
  ],
  "metadata": {
    "colab": {
      "provenance": []
    },
    "kernelspec": {
      "display_name": "Python 3.9.7 64-bit",
      "language": "python",
      "name": "python3"
    },
    "language_info": {
      "name": "python",
      "version": "3.9.7"
    },
    "vscode": {
      "interpreter": {
        "hash": "b84fcad6ccd5c032c59802c3ba70dce2674413ac82dfe6bb6586f9ee366033e2"
      }
    }
  },
  "nbformat": 4,
  "nbformat_minor": 0
}
